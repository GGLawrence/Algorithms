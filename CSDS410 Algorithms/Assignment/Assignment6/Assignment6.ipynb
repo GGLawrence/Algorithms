{
 "cells": [
  {
   "cell_type": "markdown",
   "id": "cefba34f",
   "metadata": {},
   "source": [
    "# Assignment6 \n",
    "## Ziming Cui \n",
    "### zxc701"
   ]
  },
  {
   "cell_type": "markdown",
   "id": "c69718fa",
   "metadata": {},
   "source": [
    "1. [5] Professor Amongus has shown that a decision problem L is polynomial-time reducible to an NP-Complete problem 𝑀. Moreover, after 80 pages of dense mathematics, he has also just proven that 𝐿 can be solved in polynomial time. Has he just proven that 𝑃=𝑁𝑃 ? Why, or why not?"
   ]
  },
  {
   "cell_type": "markdown",
   "id": "f016a818",
   "metadata": {},
   "source": [
    "No, he doesn't.\n",
    "\n",
    "Reason:\n",
    "\n",
    "Professor Amongus has shown that a decision problem L is polynomial-time reducible to an NP-complete problem M.\n",
    "\n",
    "Professor Amongus has proven that L can be solved in polynomial time.\n",
    "\n",
    "The information provided does not prove P=NP. To show P=NP, one would need to demonstrate that every problem in NP can be solved in polynomial time. What Professor Amongus has shown is a polynomial-time reduction from a problem in P (L) to a problem in NP (M), which does not establish that every problem in NP can be solved in polynomial time.\n",
    "\n",
    "The key point is that to prove P=NP, one would need to show a polynomial-time reduction in the other direction: from a problem in NP to a problem in P. The fact that every problem in P is in NP is known, but it doesn't immediately imply that every problem in NP can be solved in polynomial time."
   ]
  },
  {
   "cell_type": "markdown",
   "id": "956b6e60",
   "metadata": {},
   "source": [
    "2. [20] Prove that the problem SAT, which takes an arbitrary Boolean formula S as input and asks whether S is satisfiable, is NP-complete. Review the instructions at the top of this assignment for “proving a problem is in NP-Complete.”"
   ]
  },
  {
   "cell_type": "markdown",
   "id": "1c7b89a0",
   "metadata": {},
   "source": [
    "## a. Prove that SAT is in NP:\n",
    "\n",
    "Verification Problem:\n",
    "Given a Boolean formula __S__ and an assignment of truth values to its variables (certificate), we can verify in polynomial time whether the assignment satisfies the formula. To do this, we substitute the truth values into the formula and check if the resulting expression evaluates to true. This can be done in polynomial time, making SAT a member of NP.\n",
    "\n",
    "Runtime Analysis:\n",
    "The verification algorithm runs in polynomial time because the process of substituting truth values into a Boolean formula and evaluating it can be done in polynomial time."
   ]
  },
  {
   "cell_type": "markdown",
   "id": "ab32ebd4",
   "metadata": {},
   "source": [
    "## b. Prove that SAT is NP-Hard:\n",
    "\n",
    "Reduction from Independent Set to SAT:\n",
    "\n",
    "Let's consider an NP-Complete problem, Independent Set. We want to show a polynomial-time reduction from Independent Set to SAT.\n",
    "\n",
    "Given an undirected graph G and an integer k, the Independent Set problem asks whether there exists an \n",
    "\n",
    "independent set of vertices in G of size at least k.\n",
    "\n",
    "Given an instance (G,k) of Independent Set, we construct a Boolean formula S as follows:\n",
    "\n",
    "1. Create variables $x_v$ for each vertex v in G, where $x_v$ is true if vertex v is in the independent set and false otherwise.\n",
    "\n",
    "2. Create a clause for each edge (u,v) in G, requiring that at least one of the vertices is not in the independent set, i.e.,$(\\lnot x_u\\lor\\lnot x_v)$.\n",
    "\n",
    "3. Create a clause for each vertex v in G, ensuring that at most k vertices are in the independent set, i.e.,$(\\sum_vx_v\\leq k)$.\n",
    "\n",
    "This construction is done in polynomial time.\n",
    "\n",
    "Reduction from SAT to Independent Set:\n",
    "\n",
    "Now, we need to show a polynomial-time reduction from SAT to Independent Set. Given a Boolean formula S, we need to construct a graph G and an integer k such that:\n",
    "\n",
    "1. If S is satisfiable, then there exists an independent set of size at least k in G.\n",
    "\n",
    "2. If S is unsatisfiable, then no independent set of size at least k exists in G.\n",
    "\n",
    "This reduction is straightforward as each clause in S can be mapped to edges in G, and the number of vertices in the independent set corresponds to the number of variables in S.\n",
    "\n",
    "Proof of Correctness:\n",
    "We need to prove the correctness of both reductions.\n",
    "\n",
    "1. For the first reduction, if (G,k) is a 'yes' instance of Independent Set, then S is satisfiable. If  (G,k) is a 'no' instance of Independent Set, then S is unsatisfiable.\n",
    "\n",
    "2. For the second reduction, if S is satisfiable, then (G,k) is a 'yes' instance of Independent Set. If  S is unsatisfiable, then (G,k) is a 'no' instance of Independent Set.\n",
    "\n",
    "By successfully completing these steps, we have shown that SAT is both in NP and NP-Hard, making it NP-Complete."
   ]
  },
  {
   "cell_type": "markdown",
   "id": "fa2a552e",
   "metadata": {},
   "source": [
    "3. [6] Show that the Set-Cover problem is in NP."
   ]
  },
  {
   "cell_type": "markdown",
   "id": "277a740d",
   "metadata": {},
   "source": [
    "### Verification Problem:\n",
    "Given a candidate solution (a set cover) and an instance of the Set-Cover problem, we must efficiently verify whether the candidate solution is indeed a valid set cover.\n",
    "\n",
    "Algorithm Verification:\n",
    "\n",
    "Input:\n",
    "1. Universe U: The original set of elements that need to be covered.\n",
    "2. Candidate Solution: A set of sets $S_1, S_2, ..., S_k$ where each $S_i$ is a subset of U.\n",
    "\n",
    "Output: Boolean Result: Either \"Yes\" or \"No.\"\n",
    "\n",
    "1. Start with an empty set, say $U_\\mathrm{covered}$, representing the elements that have been covered. \n",
    "\n",
    "2. For each set in the candidate solution, add its elements to $U_\\mathrm{covercd}.$\n",
    "\n",
    "3. After processing all sets, check if $U_\\mathrm{covered}$ contains all the elements from the original universe $U.$\n",
    "\n",
    "4. Ifyes, the candidate solution is a valid set cover; otherwise, it is not.\n",
    "\n",
    "\n",
    "Runtime Analysis:\n",
    "\n",
    "The algorithm runs in polynomial time because for each set in the candidate solution, we are adding its elements to $U_{covered}$, which takes at most linear time. The final check to see if $U_{covered}$ covers all elements also takes linear time. Since the number of sets in the candidate solution is typically much smaller than the size of the universe U, the overall runtime is polynomial.\n",
    "\n",
    "Thus, the Set-Cover problem is in NP because we can efficiently verify whether a given set of sets constitutes a valid cover for the universe."
   ]
  },
  {
   "cell_type": "markdown",
   "id": "a36bc904",
   "metadata": {},
   "source": [
    "4. [6] Given B = ( 𝑥1 ⋁ 𝑥2 ⋁ 𝑥3) ⋀ ( 𝑥4 ⋁ 𝑥5 ⋁ 𝑥6 ) ⋀ ( 𝑥1 ⋁ 𝑥4 ⋁ 𝑥5 ) ⋀ ( 𝑥3 ⋁ 𝑥4 ⋁ 𝑥6 )\n",
    "draw the instance of VERTEX-COVER that is constructed by the reduction from 3SAT of the Boolean formula B."
   ]
  },
  {
   "cell_type": "markdown",
   "id": "adf72a3c",
   "metadata": {},
   "source": [
    "To construct the instance of VERTEX-COVER from the given Boolean formula B, which is in conjunctive normal form (CNF), we'll perform a reduction from 3SAT. The reduction is based on the fact that each clause in 3SAT corresponds to a triangle in the VERTEX-COVER instance. We introduce vertices to represent literals and connect them to form edges corresponding to the clauses.\n",
    "\n",
    "Given $$B=(x_1\\lor x_2\\lor x_3)\\land(x_4\\lor x_5\\lor x_6)\\land(x_1\\lor x_4\\lor x_5)\\land(x_3\\lor x_4\\lor x_6)$$, let's represent each clause as a triangle in VERTEX-COVER:\n",
    "\n",
    "1. Triangle $1{:} x_1\\vee x_2\\vee x_3$ · Vertices: $x_1,x_2,x_3$ · Edges: $(x_1,x_2),(x_2,x_3),(x_3,x_1)$\n",
    "\n",
    "2. Triangle $2{:} x_4\\lor x_5\\lor x_6$ · Vertices: $x_4,x_5,x_6$\n",
    " · Edges: $(x_4,x_5),(x_5,x_6),(x_6,x_4)$\n",
    "\n",
    "3. Triangle $3{:} x_1\\vee x_4\\vee x_5$ · Vertices: $x_1,x_4,x_5$\n",
    " · Edges: $(x_1,x_4),(x_4,x_5),(x_5,x_1)$\n",
    "\n",
    "4. Triangle $4{:} x_3\\lor x_4\\lor x_6$ · Vertices: $x_3,x_4,x_6$\n",
    " · Edges: $(x_3,x_4),(x_4,x_6),(x_6,x_3)$\n",
    " \n",
    "Now, the VERTEX-COVER instance is the set of all vertices formed by these triangles. Each vertex represents a literal, and each edge corresponds to a clause in B. \n",
    "\n",
    "The resulting VERTEX-COVER instance is as follows:\n",
    "$$\\text{Vertices:}\\{x_1,x_2,x_3,x_4,x_5,x_6\\}$$\n",
    "\n",
    "Edges:\n",
    "\n",
    "$$\\{(x_1,x_2),(x_2,x_3),(x_3,x_1),(x_4,x_5),(x_5,x_6),(x_6,x_4),(x_1,x_4),(x_4,x_5),(x_5,x_1),(x_3,x_4),(x_4,x_6),(x_6,x_3)\\}$$\n",
    "\n",
    "This construction illustrates the reduction from 3SAT to VERTEX-COVER, where satisfying assignments for B correspond to vertex covers in the constructed instance."
   ]
  },
  {
   "cell_type": "markdown",
   "id": "b2514ce1",
   "metadata": {},
   "source": [
    "5. [6] Draw an example of a graph with 10 vertices and 15 edges that has a vertex cover\n",
    "of size 2."
   ]
  },
  {
   "cell_type": "markdown",
   "id": "4338bb12",
   "metadata": {},
   "source": [
    "<div style=\"text-align:center\">\n",
    "    <img src=\"5a.jpg\" alt=\"Image\" width=\"800\"/>\n",
    "</div>"
   ]
  },
  {
   "cell_type": "markdown",
   "id": "33c6efd9",
   "metadata": {},
   "source": [
    "6. [6] Draw an example of a graph with 10 vertices and 15 edges that has a clique of size 6."
   ]
  },
  {
   "cell_type": "markdown",
   "id": "dc37b0e0",
   "metadata": {},
   "source": [
    "<div style=\"text-align:center\">\n",
    "    <img src=\"6.jpg\" alt=\"Image\" width=\"800\"/>\n",
    "</div>"
   ]
  },
  {
   "cell_type": "markdown",
   "id": "267acd6d",
   "metadata": {},
   "source": [
    "7. [6] Professor Amongus has just designed an algorithm that can take any graph G with n vertices and determine in 𝑂($𝑛^𝑘$) time whether G contains a clique of size k. Does Professor Amongus deserve the Turing Award for having just shown that P = NP? Why or why not? Hint: look up the definition for a asymptotic polynomial runtime."
   ]
  },
  {
   "cell_type": "markdown",
   "id": "35881167",
   "metadata": {},
   "source": [
    "No, he doesn't.\n",
    "\n",
    "### Reason:\n",
    "\n",
    "1. Algorithm Complexity: \n",
    "    \n",
    "    The algorithm has a time complexity of $O(n^k)$ where $n$ is the number of vertices and $k$ is a parameter representing the size of the clique. In a polynomial-time algorithm, the exponent $k$ should be a constant with respect to the input size.In this case, $k$ is a variable, not a constant.\n",
    "    \n",
    "2. Parameter k: \n",
    "\n",
    "    The algorithm depends on the size of the desired clique $(k)$, and this oarameteris considered part of the input. Fora polynomial-time algorithm in the context of Pvs. NP, it's essential that the runtime be polynomial in the size of the input, not in additional parameters like $k.$    \n",
    "    \n",
    "3. P vs. NP Implications: \n",
    "\n",
    "    Showing that a problem (such as CLIQUE) can be solved in polynomial time for a specific parameter value does not imply P=NP. The P vs. NP question pertains to whether every problem in NP can be solved in polynomial time with respect to the size of the input. The CLIQUE problem is NP-complete, and showing a polynomial-time algorithm for it with a fixed parameter doesn't provide a resolution to the broader P vs. NP question.   \n",
    "    \n",
    "Therefore, the algorithm described by Professor Amongus does not demonstrate that P=NP.    "
   ]
  },
  {
   "cell_type": "markdown",
   "id": "0ae7c5ea",
   "metadata": {},
   "source": [
    "8. [15] Consider the 2SAT version of the CNF-SAT problem, in which every clause in the given formula S has exactly two literals. Note that any clause of the form (𝑎 ⋁ 𝑏 ) can be thought of as two implications, (𝑎 → 𝑏) and (𝑏 → 𝑎). Consider a graph G from S, such that each vertex in G is associated with a variable, x, in S, or its negation, 𝑥 . Let there be a directed edge in G from 𝑎 𝑡𝑜 𝑏 for each clause equivalent to (𝑎 → 𝑏). Show that S is not satisfiable if and only if there is a variable 𝑥 such that there is a path in G from 𝑥 𝑡𝑜 𝑥 and a path from 𝑥 𝑡𝑜 𝑥. Derive from this rule a polynomial-time algorithm for solving this special case of the CNF-SAT problem. What is the running time of your algorithm?"
   ]
  },
  {
   "cell_type": "markdown",
   "id": "13258b30",
   "metadata": {},
   "source": [
    "The 2SAT problem involves determining whether a given boolean formula in conjunctive normal form (CNF) is satisfiable, with the restriction that each clause contains exactly two literals. The problem can be efficiently solved in polynomial time.\n",
    "\n",
    "Let's consider the construction of the implication graph G as described in the question. For each clause (a ∨ b), we add two directed edges: (¬a → b) and (¬b → a). Now, we want to show that S is not satisfiable if and only if there is a variable 𝑥 such that there is a path in G from 𝑥 to ¬𝑥 and a path from ¬𝑥 to 𝑥.\n",
    "\n",
    "## Proof:\n",
    "\n",
    "If S is not satisfiable, then there exists a variable 𝑥 such that there is a path from 𝑥 to ¬𝑥 and a path from ¬𝑥 to 𝑥:\n",
    "Assume that S is not satisfiable. This means that there is at least one clause in S that cannot be satisfied. Let's consider a clause (a ∨ b) that is not satisfied. This implies that both ¬a and ¬b must be true. Now, in the graph G, this corresponds to having a directed path from ¬a to b and from ¬b to a. Thus, there is a path from 𝑥 to ¬𝑥 and a path from ¬𝑥 to 𝑥 for 𝑥 = a or 𝑥 = b.\n",
    "\n",
    "If there is a variable 𝑥 such that there is a path from 𝑥 to ¬𝑥 and a path from ¬𝑥 to 𝑥, then S is not satisfiable:\n",
    "Assume that there exists a variable 𝑥 such that there is a path from 𝑥 to ¬𝑥 and a path from ¬𝑥 to 𝑥. Without loss of generality, let's say that there is a path from 𝑥 to ¬𝑥. This means that ¬𝑥 must be true for 𝑥 to be false. Similarly, the path from ¬𝑥 to 𝑥 implies that 𝑥 must be true for ¬𝑥 to be false. However, this creates a contradiction, as both 𝑥 and ¬𝑥 cannot be true simultaneously. Therefore, the original CNF formula S is not satisfiable.\n",
    "\n",
    "## Polynomial-time Algorithm:\n",
    "\n",
    "Algorithm:\n",
    "\n",
    "Input:\n",
    "1. Number of Variables (n): The total number of boolean variables in the formula.\n",
    "2. Clauses: A list of clauses, where each clause contains two literals (variables or their negations). The literals may be combined using the logical OR operator (∨), and the clauses are combined using the logical AND operator (∧).\n",
    "\n",
    "Output:\n",
    "1. \"Satisfiable\": The input formula is satisfiable, meaning there exists an assignment of truth values to the variables that makes the entire formula true.\n",
    "2. \"Unsatisfiable\": The input formula is unsatisfiable, meaning no assignment of truth values to the variables can make the entire formula true.\n",
    "\n",
    "> Construct the implication graph G from the given 2SAT formula S.\n",
    "\n",
    "> For each variable 𝑥, check if there is a path from 𝑥 to ¬𝑥 and a path from ¬𝑥 to 𝑥 in G.\n",
    "\n",
    "> If such a variable 𝑥 is found, output \"Unsatisfiable.\", if no such variable is found for any 𝑥, output \"Satisfiable.\"\n",
    "\n",
    "## Running Time:\n",
    "\n",
    "The construction of the implication graph G takes linear time in the size of the input formula. Checking for paths from 𝑥 to ¬𝑥 and from ¬𝑥 to 𝑥 for all variables can be done in linear time using depth-first search (DFS) or other graph traversal algorithms. Therefore, the overall running time of the algorithm is polynomial in the size of the input formula, making it a polynomial-time algorithm for the 2SAT problem, (O(n + m)).\n"
   ]
  },
  {
   "cell_type": "markdown",
   "id": "f990cc30",
   "metadata": {},
   "source": [
    "9. [10] Suppose an oracle has given you a magic computer, C, that when given any Boolean formula B in CNF will tell you in one step whether B is satisfiable. Show how to use C to construct an actual assignment of satisfying Boolean values to the variables in any satisfiable formula B. How many calls do you need to make to C in the worst case in order to do this? Hint: Consider dealing with each variable one at a time."
   ]
  },
  {
   "cell_type": "markdown",
   "id": "f47a21d3",
   "metadata": {},
   "source": [
    "## Algorithm: \n",
    "\n",
    "Input:\n",
    "\n",
    "A Boolean formula B in Conjunctive Normal Form (CNF), represented as a set of clauses where each clause is a disjunction (OR) of literals (variables or their negations).\n",
    "\n",
    "Output:\n",
    "\n",
    "A satisfying assignment for the original formula B if B is satisfiable.\n",
    "If B is unsatisfiable, there may not be a specific output (or it could be indicated that B is unsatisfiable).\n",
    "\n",
    ">1 Initialization:\n",
    "\n",
    ">Number the variables in a satisfiable formula $B$ as $x_1,x_2$\n",
    "\n",
    ">2 Iteration:\n",
    "\n",
    ">For each variable $x_i$ from $x_1$ to $x_n{:}$\n",
    "\n",
    ">Consider a version of $B$ derived from setting $x_i=1.$\n",
    "\n",
    ">If the formula is satisfiable, update $B$ to be this formula. \n",
    "\n",
    ">If not, set $B$ to the formula derived from setting $x_i=0$ and repeat.\n",
    "\n",
    ">3 Termination:\n",
    "\n",
    ">When the iteration is complete for all variables, $B$ will be the remaining formula. \n",
    "\n",
    ">The variables' assignments will be a satisfying assignment for the original formula $B$.\n",
    "\n",
    "## Number of Calls to Oracle:\n",
    "The algorithm makes n+1 calls to the oracle, where n is the number of variables in the original formula B. In each call, a satisfiability check for the modified formula is performed.\n",
    "\n",
    "## Worst-Case Analysis:\n",
    "The worst-case scenario occurs when the algorithm has to make n+1 calls to the oracle, one for each variable in the formula. This is because, at each step, the algorithm is narrowing down the satisfying assignment by considering the truth value of one variable. The number of calls to the oracle is linear in the number of variables.\n",
    "\n",
    "So,  in the worst case, the algorithm requires O(n) calls to the oracle to construct a satisfying assignment for a formula B."
   ]
  },
  {
   "cell_type": "markdown",
   "id": "b286ac72",
   "metadata": {},
   "source": [
    "10. [20] Define SUBGRAPH-ISOMORPHISM as the problem that takes a graph, 𝐺, and another graph, 𝐻, and determines if H is isomorphic to a subgraph of 𝐺. That is, the problem is to determine whether there is a one-to-one mapping, f, of the vertices in 𝐻 to a subset of the vertices in 𝐺 such that, if (𝑣,𝑤) is an edge in H, then (𝑓(𝑣),𝑓(𝑤)) is an edge in 𝐺. Prove that SUBGRAPH-ISOMORPHISM is NP-complete. In your proof you must show a reduction of the Hamiltonian Cycle to this problem. Please make certain you follow instructions at the top of this assignment on proving a problem is NP-Complete."
   ]
  },
  {
   "cell_type": "markdown",
   "id": "cc053c6e",
   "metadata": {},
   "source": [
    "## a. Proving SUBGRAPH-ISOMORPHISM is in NP:\n",
    "### Verification Problem:\n",
    "Given a certificate $f$ (a one-to-one mapping of vertices in $H$ to a subset of vertices in $G$), we need to verify whether $f$ is a valid isomorphism.\n",
    "### Algorithm to Verify Certificate:\n",
    "1. Check if $f$ is a one-to-one mapping between the vertices of $H$ and a subset of the vertices in $G.$\n",
    "\n",
    "2. For each edge $(v,w)$ in $H$, check if $(f(v),f(w))$ is an edge in $G.$\n",
    "\n",
    "### Runtime Analysis:\n",
    "1. Step 1 takes $O(|V_H|)$ time, where $|V_H|$ is the number of vertices in H.\n",
    "2. Step 2 takes $O(|E_H|)$ time, where $|E_H|$ is the number of edges in H.\n",
    "\n",
    "Overall, the runtime is polynomial in the size of the input.\n",
    "\n",
    "## b. Proving SUBGRAPH-ISOMORPHISM is NP-Hard:\n",
    "We will reduce the Hamiltonian Cycle (HC) problem to SUBGRAPH-ISOMORPHISM.\n",
    "\n",
    "### Reduction:\n",
    "The Hamiltonian Cycle (HC) problem: Given a graph 𝐺', does there exist a cycle that visits each vertex exactly once?\n",
    "\n",
    "### Reduction to SUBGRAPH-ISOMORPHISM:\n",
    "Given an instance (graph 𝐺') of the Hamiltonian Cycle problem, construct an instance (graphs 𝐺 and 𝐻) of SUBGRAPH-ISOMORPHISM as follows:\n",
    "\n",
    "1. Set 𝐺 = 𝐺', i.e., 𝐺 is the same graph as the given Hamiltonian Cycle instance.\n",
    "2. Let 𝐻 be a graph with two vertices and one edge between them.\n",
    "\n",
    "The intuition here is that if 𝐺' has a Hamiltonian Cycle, then 𝐺 will have a subgraph isomorphic to 𝐻. The two vertices in 𝐻 correspond to the starting and ending points of the Hamiltonian Cycle, and the edge represents the path connecting them.\n",
    "\n",
    "### Correctness of Reduction:\n",
    "1. If 𝐺' has a Hamiltonian Cycle, then 𝐺 has a subgraph isomorphic to 𝐻:\n",
    "\n",
    "Choose the isomorphism 𝑓 such that 𝑓(vertex_1_in_𝐻) = starting_point_of_HC and 𝑓(vertex_2_in_𝐻) = ending_point_of_HC. This is a valid isomorphism because the Hamiltonian Cycle ensures that the path exists in 𝐺.\n",
    "\n",
    "2. If 𝐺 has a subgraph isomorphic to 𝐻, then 𝐺' has a Hamiltonian Cycle:\n",
    "\n",
    "The isomorphism 𝑓 maps the two vertices in 𝐻 to the starting and ending points of the Hamiltonian Cycle in 𝐺. The path between these two points forms a Hamiltonian Cycle in 𝐺'.\n",
    "\n",
    "### Polynomial-Time Reduction:\n",
    "The construction of 𝐺 and 𝐻 can be done in polynomial time because it involves copying the graph structure and adding two vertices with one edge.\n",
    "\n",
    "## Conclusion:\n",
    "Since SUBGRAPH-ISOMORPHISM is both in NP and NP-hard (via reduction from Hamiltonian Cycle), we conclude that SUBGRAPH-ISOMORPHISM is NP-complete.\n"
   ]
  },
  {
   "cell_type": "code",
   "execution_count": null,
   "id": "6a65721a",
   "metadata": {},
   "outputs": [],
   "source": []
  },
  {
   "cell_type": "code",
   "execution_count": null,
   "id": "3a4c36ab",
   "metadata": {},
   "outputs": [],
   "source": []
  },
  {
   "cell_type": "code",
   "execution_count": null,
   "id": "f6443579",
   "metadata": {},
   "outputs": [],
   "source": []
  },
  {
   "cell_type": "code",
   "execution_count": null,
   "id": "72158a3b",
   "metadata": {},
   "outputs": [],
   "source": []
  }
 ],
 "metadata": {
  "kernelspec": {
   "display_name": "Python 3 (ipykernel)",
   "language": "python",
   "name": "python3"
  },
  "language_info": {
   "codemirror_mode": {
    "name": "ipython",
    "version": 3
   },
   "file_extension": ".py",
   "mimetype": "text/x-python",
   "name": "python",
   "nbconvert_exporter": "python",
   "pygments_lexer": "ipython3",
   "version": "3.9.13"
  }
 },
 "nbformat": 4,
 "nbformat_minor": 5
}
