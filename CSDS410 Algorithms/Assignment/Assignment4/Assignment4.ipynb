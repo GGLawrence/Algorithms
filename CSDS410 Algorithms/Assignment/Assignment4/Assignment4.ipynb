{
 "cells": [
  {
   "cell_type": "markdown",
   "id": "8092655c",
   "metadata": {},
   "source": [
    "# Assignment 4 --- Ziming Cui，zxc701"
   ]
  },
  {
   "cell_type": "markdown",
   "id": "cb235e6c",
   "metadata": {},
   "source": [
    "1. [24 = 2+14+4+4] Suppose that in an instance of the coins-in-a-line game the coins have the following values in the line:\n",
    "                                   {5, 1, 7, 5, 10, 9, 7, 8}\n",
    "    a. What is the maximum that the first player, Alice, can win, assuming that the second player, Bob, plays optimally?\n",
    "    \n",
    "#### The maximum is 30. I will show the maximum value in a Matrix. You can see it in b question.\n",
    "   "
   ]
  },
  {
   "cell_type": "markdown",
   "id": "ea657a13",
   "metadata": {},
   "source": [
    "    b. Using the algorithm from class, show the matrix with correct values for each matrix element, when appropriate, for this example. The matrix is an 𝑛 𝑥 𝑛 matrix. The pseudo-code is also available in the presentation for this problem. Read part c of this problem to help with this."
   ]
  },
  {
   "cell_type": "markdown",
   "id": "ffe13118",
   "metadata": {},
   "source": [
    "<div style=\"text-align:center\">\n",
    "    <img src=\"b_algo.png\" alt=\"Image\" width=\"400\"/>\n",
    "</div>\n",
    "\n",
    "<div style=\"text-align:center\">\n",
    "    <img src=\"b.jpg\" alt=\"Image\" width=\"400\"/>\n",
    "</div>"
   ]
  },
  {
   "cell_type": "markdown",
   "id": "7402c4ed",
   "metadata": {},
   "source": [
    "    c. Aside from the two base cases, there is a pattern for determining the value stored in the entry M[i,j] in the matrix. What is this pattern? That is, rewrite the following wrong pattern for M[i, j].\n",
    "    \n",
    "        M[i,j] = max { C(i) + min {3 cells down from M[i,j], 1 cell up from M[i,j] }, C(j) + min{1   cell diagonal down left from M[i,j], 2 cells right} }\n",
    "    \n",
    "    \n",
    "### My Answer:\n",
    "\n",
    "$$M_{i,j}=\\max\\left\\{\\min\\{M_{i+1,j-1},M_{i+2,j}\\}+C[i],\\min\\{M_{i,j-2},M_{i+1,j-1}\\}+C[j]\\right\\}.$$\n",
    "\n",
    "In addition, for i = 1, 2, . . . , n − 1, we have the initial conditions"
   ]
  },
  {
   "cell_type": "markdown",
   "id": "38b62374",
   "metadata": {},
   "source": [
    "    d. List in order the coins that Alice picks.\n",
    "    \n",
    "### My Answer:\n",
    "\n",
    "Alice = {8, 5, 10, 7}\n",
    "\n",
    "Bob = {7, 9, 5, 1}\n",
    "    "
   ]
  },
  {
   "cell_type": "markdown",
   "id": "06432d7b",
   "metadata": {},
   "source": [
    "<div style=\"text-align:center\">\n",
    "    <img src=\"2.png\" alt=\"Image\" width=\"800\"/>\n",
    "</div>\n",
    "\n",
    "a. What is the maximum value obtained with a knapsack that can hold 60 lbs? You must show your work by presenting an the matrix with values according to the algorithm.\n",
    "You can give W in increments of 5. That is your matrix will look something like this. Put the correct values in this matrix."
   ]
  },
  {
   "cell_type": "markdown",
   "id": "f153727c",
   "metadata": {},
   "source": [
    "<div style=\"text-align:center\">\n",
    "    <img src=\"2a.jpg\" alt=\"Image\" width=\"800\"/>\n",
    "</div>"
   ]
  },
  {
   "cell_type": "markdown",
   "id": "3bf993d6",
   "metadata": {},
   "source": [
    "b. What items are selected?"
   ]
  },
  {
   "cell_type": "markdown",
   "id": "54c45470",
   "metadata": {},
   "source": [
    "<div style=\"text-align:center\">\n",
    "    <img src=\"2b.jpg\" alt=\"Image\" width=\"800\"/>\n",
    "</div>"
   ]
  },
  {
   "cell_type": "markdown",
   "id": "ec2a7905",
   "metadata": {},
   "source": [
    "c. In class, the items in the set were in non-decreasing by weight. Does the order in which the items in the set produce different answers? Briefly explain why/why not?"
   ]
  },
  {
   "cell_type": "markdown",
   "id": "72d76eb5",
   "metadata": {},
   "source": [
    "In the 0-1 Knapsack Problem, the order in which the items are presented in the set does not produce different answers, as long as the problem is solved using dynamic programming optimally.\n",
    "\n",
    "The reason for this is that dynamic programming, which is the most common approach for solving the 0-1 Knapsack Problem, considers all possible combinations of items and their weights, regardless of their order. The dynamic programming algorithm iterates through the items and their respective weights, calculating the maximum value that can be obtained while considering each item either for inclusion or exclusion in the knapsack. This is done systematically for all items and weights.\n",
    "\n",
    "The dynamic programming approach ensures that all possible combinations are explored, and the order of items in the input set does not affect the final result. As long as the algorithm is correctly implemented, it will provide the optimal solution regardless of the initial order of the items in the set."
   ]
  },
  {
   "cell_type": "markdown",
   "id": "e0e7febf",
   "metadata": {},
   "source": [
    "3. [8] Exercise R-12.6 from the book. Your work must be shown to receive points otherwise no points are earned.\n",
    "\n",
    "<div style=\"text-align:center\">\n",
    "    <img src=\"3.png\" alt=\"Image\" width=\"800\"/>\n",
    "</div>"
   ]
  },
  {
   "cell_type": "markdown",
   "id": "f264796f",
   "metadata": {},
   "source": [
    "According to the Telescope scheduling algo:\n",
    "<div style=\"text-align:center\">\n",
    "    <img src=\"3_algo.png\" alt=\"Image\" width=\"400\"/>\n",
    "</div>    "
   ]
  },
  {
   "cell_type": "markdown",
   "id": "04abfa55",
   "metadata": {},
   "source": [
    "We start to run this algo, using our data set.\n",
    "\n",
    "P[1] = 0\n",
    "\n",
    "Initialization:\n",
    "\n",
    "B[0] = 0 \n",
    "\n",
    "P[1] = 0\n",
    "P[2] = 0\n",
    "P[3] = 1\n",
    "P[4] = 2\n",
    "P[5] = 0\n",
    "P[6] = 4\n",
    "P[7] = 5\n",
    "P[8] = 6\n",
    "\n",
    "\n",
    "Enter into for loop:\n",
    "\n",
    "### i = 1\n",
    "\n",
    "B[1] = max{B[0], B[P[1]] + b0}\n",
    "\n",
    "B[0] = 0\n",
    "\n",
    "B[P[1]] + b1 = B[0] + 5 = 5\n",
    "\n",
    "So, B[1] = 5\n",
    "\n",
    "### i = 2\n",
    "\n",
    "B[2] = max{B[1], B[P[2]] + b2}\n",
    "\n",
    "B[1] = 5\n",
    "\n",
    "B[P[2]] + b2 = B[0] + 4 = 4\n",
    "\n",
    "So, B[2] = 5\n",
    "\n",
    "### i = 3\n",
    "\n",
    "B[3] = max{B[2], B[P[3]] + b3}\n",
    "\n",
    "B[2] = 5\n",
    "\n",
    "B[P[3]] + b3 = B[1] + 7 = 12\n",
    "\n",
    "So, B[3] = 12\n",
    "\n",
    "### i = 4\n",
    "\n",
    "B[4] = max{B[3], B[P[4]] + b4}\n",
    "\n",
    "B[3] = 12\n",
    "\n",
    "B[P[4]] + b4 = B[2] + 2 = 7 \n",
    "\n",
    "So, B[4] = 12\n",
    "\n",
    "### i = 5\n",
    "\n",
    "B[5] = max{B[4], B[P[5]] + b5}\n",
    "\n",
    "B[4] = 12\n",
    "\n",
    "B[P[5]] + b5 = B[0] + 3 = 3\n",
    "\n",
    "So, B[5] = 12\n",
    "\n",
    "### i = 6\n",
    "\n",
    "B[6] = max{B[5], B[P[6]] + b6}\n",
    "\n",
    "B[5] = 12\n",
    "\n",
    "B[P[6]] + b6 = B[3] + 5 = 17\n",
    "\n",
    "So, B[6] = 17\n",
    "\n",
    "### i = 7\n",
    "\n",
    "B[7] = max{B[6], B[P[7]] + b7}\n",
    "\n",
    "B[6] = 17\n",
    "\n",
    "B[P[7]] + b7 = B[5] + 7 = 19\n",
    "\n",
    "So, B[7] = 19\n",
    "\n",
    "### i = 8\n",
    "\n",
    "B[8] = max{B[7], B[P[8]] + b8}\n",
    "\n",
    "B[7] = 19\n",
    "\n",
    "B[P[8]] + b8 = B[6] + 4 = 21\n",
    "\n",
    "So, B[8] = 21\n",
    "\n",
    "Finally, we can know that {(1, 2, 5), (2, 4, 7), (4, 7, 5), (7, 9, 4)}, will enter into the shedule, and they will create the maximum benifit 21."
   ]
  },
  {
   "cell_type": "markdown",
   "id": "65656220",
   "metadata": {},
   "source": [
    "4. [8] Exercise R-12.9 from the book. Hint: Let n represent the weight of the sack. You must explain the variables for the knapsack problems (both the 0-1 and fractional). You must also explain what conditions must be assumed for the 0-1 Knapsack problem and then the conditions that must be assumed for the fractional knapsack problem with respect to this Internet auction that Sally is hosting. Do not give general information.\n",
    "\n",
    "<div style=\"text-align:center\">\n",
    "    <img src=\"4.png\" alt=\"Image\" width=\"800\"/>\n",
    "</div>"
   ]
  },
  {
   "cell_type": "markdown",
   "id": "f3352d14",
   "metadata": {},
   "source": [
    "In this problem, Sally is hosting an Internet auction to sell n widgets. She receives m bids, each in the form of \"I want ki widgets for di dollars,\" for i = 1, 2, ..., m.\n",
    "\n",
    "To characterize Sally's optimization problem as a knapsack problem, we can define the following variables:\n",
    "\n",
    "Variables for the Knapsack Problem:\n",
    "n: The total number of widgets Sally wants to sell.\n",
    "m: The number of bids she receives.\n",
    "ki: The number of widgets requested by the ith bidder.\n",
    "di: The amount the ith bidder is willing to pay for the requested widgets.\n",
    "xi: A binary variable (0 or 1) representing whether the ith bid is selected (xi = 1 if selected, xi = 0 if not selected).\n",
    "Now, let's discuss the conditions for both the 0-1 Knapsack problem and the fractional Knapsack problem with respect to Sally's Internet auction:\n",
    "\n",
    "Conditions for the 0-1 Knapsack Problem:\n",
    "\n",
    "In the 0-1 Knapsack problem, Sally has to make a discrete decision for each bid, meaning she can either accept the entire bid or reject it.\n",
    "The number of widgets (ki) for each bid must be integers, as the 0-1 Knapsack problem deals with selecting or rejecting items in whole quantities.\n",
    "The objective is to maximize the total profit or revenue, which is the sum of the amounts paid by the selected bids, subject to the constraint that the total number of widgets selected does not exceed n.\n",
    "Conditions for the Fractional Knapsack Problem:\n",
    "\n",
    "In the fractional Knapsack problem, Sally can accept fractions of bids, allowing her to split a bid into smaller parts if necessary.\n",
    "The number of widgets (ki) for each bid can be real numbers, including fractions, allowing for more flexibility in the allocation of widgets.\n",
    "The objective is to maximize the total profit or revenue, which is the sum of the amounts paid by the selected bids, subject to the constraint that the total number of widgets selected does not exceed n.\n",
    "So, whether Sally's optimization problem is a 0-1 Knapsack problem or a fractional Knapsack problem depends on whether she is allowed to split bids into fractions or if she must make a discrete decision for each bid. If she can only accept or reject bids as a whole, it is a 0-1 Knapsack problem. If she can accept fractions of bids, it is a fractional Knapsack problem."
   ]
  },
  {
   "cell_type": "markdown",
   "id": "9dd8eba7",
   "metadata": {},
   "source": [
    "5. [8] Show that, in the coins-in-a-line-game, a greedy strategy of having the first player, Alice, always choose the available coin with the highest value will not necessarily result in an optimal solution (or even a winning solution) for her. Do this by giving an example with 6 coins.\n",
    "\n",
    "<div style=\"text-align:center\">\n",
    "    <img src=\"5.jpg\" alt=\"Image\" width=\"800\"/>\n",
    "</div>"
   ]
  },
  {
   "cell_type": "markdown",
   "id": "e0e2242f",
   "metadata": {},
   "source": [
    "6. [8] Show that, in the coins-in-a-line game, a greedy-denial strategy of having the first player, Alice, always choose the available coin that minimizes the maximum value of the coin available to Bob will not necessarily result in an optimal solution for her. You can do this by giving an example with coins.\n",
    "\n",
    "<div style=\"text-align:center\">\n",
    "    <img src=\"6.jpg\" alt=\"Image\" width=\"800\"/>\n",
    "</div>"
   ]
  },
  {
   "cell_type": "markdown",
   "id": "423e9a67",
   "metadata": {},
   "source": [
    "7. [8] Exercise R-10.1 from the book. Show your work.\n",
    "\n",
    "    R-10.1 Let S = {a, b, c, d, e, f, g} be a collection of objects with benefit-weight values, a: (12, 4), b: (10, 6), c: (8, 5), d: (11, 7), e: (14, 3), f : (7, 1), g: (9, 6). What is an optimal solution to the fractional knapsack problem for S assuming we have a sack that can hold objects with total weight 18? Show your work."
   ]
  },
  {
   "cell_type": "markdown",
   "id": "20209cd6",
   "metadata": {},
   "source": [
    "Va = 3 benefit/weight\n",
    "Vb = 5/3 ≈ 1.67\n",
    "Vc = 8/5 = 1.6\n",
    "Vd = 11/7 ≈ 1.57\n",
    "Ve = 14/3 ≈ 4.67\n",
    "Vf = 7\n",
    "Vg = 3/2 = 1.5\n",
    "\n",
    "we can get that Vf > Ve > Va > Vb > Vc > Vd > Vg\n",
    "\n",
    "W = 18 weight\n",
    "B is total benefit, we set B = 0 at first.\n",
    "\n",
    "Therefore, we load items with the highest value per unit weight in order until the knapsack is full.\n",
    "\n",
    "Thus f is the first.\n",
    "\n",
    "W - wf = 18 - 1 = 17\n",
    "\n",
    "B = 0 + bf = 0 + 7 = 7\n",
    "\n",
    "And then e is the second.\n",
    "\n",
    "W - we = 17 - 3 = 14\n",
    "\n",
    "B = B + be = 7 + 14 = 21\n",
    "\n",
    "And then a is the third.\n",
    "\n",
    "W - wa = 14 - 4 = 10\n",
    "\n",
    "B = B + ba = 21 + 12 = 33\n",
    "\n",
    "And then b is the forth.\n",
    "\n",
    "W - wb = 10 - 6 = 4\n",
    "\n",
    "B = B + bb = 33 + 10 = 43\n",
    "\n",
    "And then c is the final.\n",
    "\n",
    "W = 4 < wc = 5\n",
    "\n",
    "so we can just load 4 weight c into knapsack.\n",
    "\n",
    "B = B + 4 * Vc = 43 + 4 * 1.6 = 49.4\n",
    "\n",
    "In conclusion, we use all knapsack's weight 18, and get the maximum benefit 49.4."
   ]
  },
  {
   "cell_type": "markdown",
   "id": "6932eb1e",
   "metadata": {},
   "source": [
    "8. [8] Exercise R-10.3 from the book. Show your work.\n",
    "\n",
    "    R-10.3 Suppose we are given a set of tasks specified by pairs of the start times and finish times as T = {(1, 2), (1, 3), (1, 4), (2, 5), (3, 7), (4, 9), (5, 6), (6, 8), (7, 9)}. Solve the task scheduling problem for this set of tasks."
   ]
  },
  {
   "cell_type": "markdown",
   "id": "9c734345",
   "metadata": {},
   "source": [
    "<div style=\"text-align:center\">\n",
    "    <img src=\"8.jpg\" alt=\"Image\" width=\"800\"/>\n",
    "</div>"
   ]
  },
  {
   "cell_type": "markdown",
   "id": "ba951ab7",
   "metadata": {},
   "source": [
    "9. [8] Exercise C-10.2 from the book.\n",
    "    \n",
    "    R-10.2 Describe how to implement the TaskSchedule method to run in O(n log n) time."
   ]
  },
  {
   "cell_type": "markdown",
   "id": "2f78a251",
   "metadata": {},
   "source": [
    "The TaskSchedule algorithm is designed to schedule a set of n tasks with their start and finish times on machines in a way that minimizes the number of machines required. The algorithm works by sorting the tasks based on their start times and then iteratively assigning tasks to machines in a way that avoids conflicts.\n",
    "\n",
    "The time complexity of the algorithm primarily comes from the sorting step. When you sort the n tasks by their start times, you are essentially performing a comparison-based sort operation, which typically has a time complexity of O(n log n) in the worst case for algorithms like quicksort or mergesort. This sorting step dominates the time complexity of the algorithm.\n",
    "\n",
    "After sorting, the algorithm iterates through the sorted list of tasks once to assign them to machines, which can be done in linear time, O(n).\n",
    "\n",
    "So, the overall time complexity of TaskSchedule is dominated by the sorting step, which is O(n log n). This is why it is stated that TaskSchedule produces a schedule in O(n log n) time.\n"
   ]
  }
 ],
 "metadata": {
  "kernelspec": {
   "display_name": "Python 3 (ipykernel)",
   "language": "python",
   "name": "python3"
  },
  "language_info": {
   "codemirror_mode": {
    "name": "ipython",
    "version": 3
   },
   "file_extension": ".py",
   "mimetype": "text/x-python",
   "name": "python",
   "nbconvert_exporter": "python",
   "pygments_lexer": "ipython3",
   "version": "3.9.13"
  }
 },
 "nbformat": 4,
 "nbformat_minor": 5
}
