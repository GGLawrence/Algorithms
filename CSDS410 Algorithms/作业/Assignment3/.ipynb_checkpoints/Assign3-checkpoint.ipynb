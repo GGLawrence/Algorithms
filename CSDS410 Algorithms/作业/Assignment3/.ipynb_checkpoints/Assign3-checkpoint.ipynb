{
 "cells": [
  {
   "cell_type": "markdown",
   "id": "cbbb1ec9",
   "metadata": {},
   "source": [
    "1. [12 points] Consider the DirectedDFS algorithm 13.11 from the book or as given in class. It does not distinguish between forward and cross edges.\n",
    "\n",
    "    a. Modify this algorithm to differentiate between these edges; that is, give its pseudocode. Thus, edges can be one of four types: tree, back, cross or forward.\n",
    "\n",
    "    Algorithm ModifiedDirectedDFS(G, v):\n",
    "        Label v as active    // Every vertex is initially unexplored\n",
    "        for each outgoing edge, e, that is incident to v in G do\n",
    "            if e is unexplored then\n",
    "                Let w be the destination vertex for e\n",
    "                if w is unexplored and not active then\n",
    "                    Label e as a discovery edge\n",
    "                    ModifiedDirectedDFS(G, w)\n",
    "                if w is active then \n",
    "                    Label e as a back edge\n",
    "        \n",
    "\t// Second for-loop to distinguish forward and cross edges\n",
    "        for each incoming edge, e = (w, v)\n",
    "            if w is active and e is unexplored then\n",
    "                Label e as a forward edge\n",
    "            else if e is unexplored then\n",
    "                Label e as a cross edge\n",
    "        Label v as explored\n"
   ]
  },
  {
   "cell_type": "markdown",
   "id": "a59e5f26",
   "metadata": {},
   "source": [
    "    b. Give an example of running your algorithm."
   ]
  },
  {
   "cell_type": "markdown",
   "id": "756f99d9",
   "metadata": {},
   "source": [
    "<div style=\"text-align:center\">\n",
    "    <img src=\"1b.jpg\" alt=\"Image\" width=\"400\"/>\n",
    "</div>"
   ]
  },
  {
   "cell_type": "markdown",
   "id": "6f177933",
   "metadata": {},
   "source": [
    "    c. Prove its correctness for labeling these four edges and its running time.\n",
    "    Correctness Proof:\n",
    "        The algorithm correctly categorizes edges based on their nature:\n",
    "\n",
    "        Discovery Edges: The algorithm labels an edge as a discovery edge when it visits an unexplored vertex (w) from an active vertex (v). This ensures that we are exploring new parts of the graph, and this categorization is accurate.\n",
    "\n",
    "        Back Edges: The algorithm labels an edge as a back edge when it encounters a vertex (w) that is already labeled as \"active.\" This indicates a cycle in the graph, and marking the edge as a back edge is correct.\n",
    "\n",
    "        Forward Edges: The algorithm labels an edge as a forward edge when it explores a vertex (w) that is still active, and the edge is unexplored. This indicates that it's connecting to a vertex in the same DFS branch, so it's a forward edge.\n",
    "\n",
    "        Cross Edges: The algorithm labels an edge as a cross edge when it explores a vertex (w) that is not active, and the edge is unexplored. This indicates that the edge connects to a different branch of the DFS tree, making it a cross edge.\n",
    "    \n",
    "    Running Time:\n",
    "        The running time of the ModifiedDirectedDFS algorithm depends on the number of vertices (V) and edges (E) in the graph, which is O(V + E).\n",
    "\n",
    "        In the worst case, each edge and vertex are visited once during the DFS traversal, resulting in O(V + E) time complexity."
   ]
  },
  {
   "cell_type": "markdown",
   "id": "6f94964c",
   "metadata": {},
   "source": [
    "<div style=\"text-align:center\">\n",
    "    <img src=\"2.png\" alt=\"Image\" width=\"400\"/>\n",
    "</div>"
   ]
  },
  {
   "cell_type": "markdown",
   "id": "432dca49",
   "metadata": {},
   "source": [
    "    a. Draw a directed graph to model the course and prerequisites.\n",
    "    \n",
    "    "
   ]
  },
  {
   "cell_type": "markdown",
   "id": "9fe746d9",
   "metadata": {},
   "source": [
    "<div style=\"text-align:center\">\n",
    "    <img src=\"2a.jpg\" alt=\"Image\" width=\"400\"/>\n",
    "</div>"
   ]
  },
  {
   "cell_type": "markdown",
   "id": "97b71e09",
   "metadata": {},
   "source": [
    "b. Find the sequence of courses that allows Bob to satisfy all the prerequisites using the topological sort algorithm explained in class. Consider the prerequisites as an adjacency list in the order that prerequisites are given. Thus, there will be a distinct topological sort ordering based on the adjacency list. Example, for LA32, the adjacency list is LA16, LA31. LA16 is first in the list followed by LA31.\n",
    "\n",
    "<div style=\"text-align:center\">\n",
    "    <img src=\"2b.jpg\" alt=\"Image\" width=\"400\"/>\n",
    "</div>"
   ]
  },
  {
   "cell_type": "markdown",
   "id": "f287668d",
   "metadata": {},
   "source": [
    "3. [22 points, 4 points for a, 4 points for b, 7 points for c, 7 points for d]\n",
    "\n",
    "<div style=\"text-align:center\">\n",
    "    <img src=\"3.png\" alt=\"Image\" width=\"400\"/>\n",
    "</div>"
   ]
  },
  {
   "cell_type": "markdown",
   "id": "4717d1ae",
   "metadata": {},
   "source": [
    "a. Draw G.\n",
    "    \n",
    "<div style=\"text-align:center\">\n",
    "    <img src=\"3a.jpg\" alt=\"Image\" width=\"400\"/>\n",
    "</div>    "
   ]
  },
  {
   "cell_type": "markdown",
   "id": "bfe2af2d",
   "metadata": {},
   "source": [
    "b. Draw a schematic representation of the adjacency list structure of G like Figure 13.3.\n",
    "\n",
    "<div style=\"text-align:center\">\n",
    "    <img src=\"3b.jpg\" alt=\"Image\" width=\"400\"/>\n",
    "</div> "
   ]
  },
  {
   "cell_type": "markdown",
   "id": "41498be6",
   "metadata": {},
   "source": [
    "c. Order the vertices as they are visited in a DFS traversal starting at vertex 1. Also, draw the spanning tree that represents this.\n",
    "\n",
    "<div style=\"text-align:center\">\n",
    "    <img src=\"3c.jpg\" alt=\"Image\" width=\"400\"/>\n",
    "</div> "
   ]
  },
  {
   "cell_type": "markdown",
   "id": "44ee0be3",
   "metadata": {},
   "source": [
    "d. Order the vertices as they are visited in a BFS traversal starting at vertex 1. Also, draw the shortest path tree that represents this.\n",
    "\n",
    "<div style=\"text-align:center\">\n",
    "    <img src=\"3d.jpg\" alt=\"Image\" width=\"400\"/>\n",
    "</div> "
   ]
  },
  {
   "cell_type": "markdown",
   "id": "b81945c5",
   "metadata": {},
   "source": [
    "4. [30 points – 10 points for each part a, b and c] Justify Theorem 13.11. You will need to prove each part a, b and c, of the theorem. Consider using induction or a contradiction.\n",
    "\n",
    "    Theorem 13.11: Let G be an undirected graph with n vertices and m edges. Then we have the following:\n",
    "    \n",
    "    a. If G is connected, then 𝑚 ≥ 𝑛 − 1\n",
    "    \n",
    "    To justify Theorem 13.11(a) using mathematical induction, we'll use the principle of induction to prove that for any connected graph with n vertices, the number of edges m must be greater than or equal to n - 1.\n",
    "\n",
    "    Base Case (n = 1):\n",
    "\n",
    "    For the base case, consider a connected graph with a single vertex (n = 1). In this case, there are no edges (m = 0). Since 0 is greater than or equal to 1 - 1, the base case holds.\n",
    "\n",
    "    Inductive Hypothesis:\n",
    "\n",
    "    Assume that the theorem is true for some positive integer k, where k ≥ 1. That is, for any connected graph with k vertices, m ≥ k - 1.\n",
    "\n",
    "    Inductive Step:\n",
    "\n",
    "    We want to prove the theorem for k + 1 vertices. Consider a connected graph G with k + 1 vertices.\n",
    "\n",
    "    Let's choose one vertex v from the graph G. Removing this vertex along with all its incident edges will result in a subgraph G' with k vertices. By the inductive hypothesis, we know that G' must have at least k - 1 edges: m' ≥ (k - 1).\n",
    "\n",
    "    Now, add vertex v back to G along with its incident edges. Since G was connected, when we add vertex v back, it connects to at least one vertex in G' (otherwise, G would not be connected). Adding v creates at least one new edge in G.\n",
    "\n",
    "    Therefore, the number of edges in G, m, can be expressed as m = m' + 1 (for the new edge connecting v). Since m' ≥ (k - 1), we have m = m' + 1 ≥ (k - 1) + 1 = k.\n",
    "\n",
    "    This proves that for a connected graph with k + 1 vertices, the number of edges m is at least k, which is the same as k + 1 - 1. Therefore, the theorem holds for k + 1 vertices.\n",
    "\n",
    "    By the principle of mathematical induction, we have shown that the theorem is true for all positive integers n. This completes the proof of Theorem 13.11(a).   "
   ]
  },
  {
   "cell_type": "markdown",
   "id": "24fb764b",
   "metadata": {},
   "source": [
    "    b. If G is a tree, then 𝑚=𝑛−1\n",
    "    \n",
    "    Base Case (n = 1):\n",
    "\n",
    "    For the base case, consider a tree with a single vertex (n = 1). In this case, there are no edges (m = 0). Since 0 is equal to 1 - 1, the base case holds.\n",
    "\n",
    "    Inductive Hypothesis:\n",
    "\n",
    "    Assume that the theorem is true for some positive integer k, where k ≥ 1. That is, for any tree with k vertices, m = k - 1.\n",
    "\n",
    "    Inductive Step:\n",
    "\n",
    "    We want to prove the theorem for k + 1 vertices. Consider a tree T with k + 1 vertices.\n",
    "\n",
    "    Let's choose one leaf vertex v from the tree T. A leaf vertex is a vertex with only one edge. When we remove this leaf vertex and its incident edge, we obtain a subtree T' with k vertices. By the inductive hypothesis, we know that T' must have k - 1 edges: m' = k - 1.\n",
    "\n",
    "    Adding back the leaf vertex v along with its incident edge will result in the original tree T. Adding v to T increases the number of edges by 1, so m = m' + 1.\n",
    "\n",
    "    Therefore, the number of edges in T, m, can be expressed as m = m' + 1 = (k - 1) + 1 = k.\n",
    "\n",
    "    This proves that for a tree with k + 1 vertices, the number of edges m is equal to k, which is the same as k + 1 - 1. Therefore, the theorem holds for k + 1 vertices.\n",
    "\n",
    "    By the principle of mathematical induction, we have shown that the theorem is true for all positive integers n. "
   ]
  },
  {
   "cell_type": "markdown",
   "id": "02f5480f",
   "metadata": {},
   "source": [
    "c. If G is a forest, then 𝑚 ≤ 𝑛 − 1\n",
    "\n",
    "Base Case (n = 1):\n",
    "\n",
    "For the base case, consider a forest with a single vertex (n = 1). In this case, there are no edges (m = 0). Since 0 is less than or equal to 1 - 1, the base case holds.\n",
    "\n",
    "Inductive Hypothesis:\n",
    "\n",
    "Assume that the theorem is true for some positive integer k, where k ≥ 1. That is, for any forest with k vertices, m ≤ k - 1.\n",
    "\n",
    "Inductive Step:\n",
    "\n",
    "We want to prove the theorem for k + 1 vertices. Consider a forest F with k + 1 vertices.\n",
    "\n",
    "Let's choose one connected component of the forest F, which itself is a forest with some number of vertices and edges. By the inductive hypothesis, we know that the number of edges in this connected component is less than or equal to the number of vertices in that component minus 1.\n",
    "\n",
    "Now, consider the remaining part of the forest F, which is also a forest with a certain number of vertices and edges. By the inductive hypothesis, the number of edges in this part is less than or equal to the number of vertices in this part minus 1.\n",
    "\n",
    "Combining these two results, the total number of edges in the entire forest F is the sum of the edges in the two connected components, and it is less than or equal to the sum of the vertices in these components minus 1.\n",
    "\n",
    "Since F has k + 1 vertices, this sum is k + 1, and we have shown that m ≤ (k - 1) + (k - 1) = 2k - 2. We want to show that m ≤ k.\n",
    "\n",
    "It's easy to see that 2k - 2 is less than or equal to k when k is greater than or equal to 1. Therefore, m ≤ k.\n",
    "\n",
    "This proves that for a forest with k + 1 vertices, the number of edges m is less than or equal to k, which is the same as k + 1 - 1. Therefore, the theorem holds for k + 1 vertices.\n",
    "\n",
    "By the principle of mathematical induction, we have shown that the theorem is true for all positive integers n."
   ]
  },
  {
   "cell_type": "markdown",
   "id": "ffc879fc",
   "metadata": {},
   "source": [
    "5. [16 pts] This question pertains to topological sorting on a grid graph.\n",
    "<div style=\"text-align:center\">\n",
    "    <img src=\"5.png\" alt=\"Image\" width=\"400\"/>\n",
    "</div> "
   ]
  },
  {
   "cell_type": "markdown",
   "id": "134d34ba",
   "metadata": {},
   "source": [
    "    a. Give four distinct orderings of the nodes in the following directed acyclic graph.\n",
    "    \n",
    "<div style=\"text-align:center\">\n",
    "    <img src=\"5a.jpg\" alt=\"Image\" width=\"400\"/>\n",
    "</div> "
   ]
  },
  {
   "cell_type": "markdown",
   "id": "2806b7e0",
   "metadata": {},
   "source": [
    "    b. Generalize your four orderings to the case of the graph with the same connectivity pattern on an 𝑛 𝑥 𝑛 grid.\n",
    "    \n",
    "    STEP 1 ->First of all we will put (0*0)th node in ordering because The first vertex in topologicalsorting is always a     vertex with in-degree as 0 (a vertex with no in-coming edges).\n",
    "    STEP 2 -> secondly, we will put node(1*0)th or (0*1)th into our ordering.\n",
    "    STEP 3 ->repeatdly we will put vertex in our ordering as vertices such that for every directed edge (u,v), vertex u       comes before v in the ordering.Till we have no vertex left."
   ]
  },
  {
   "cell_type": "markdown",
   "id": "27fe7f3f",
   "metadata": {},
   "source": [
    "6. [16 pts] Consider an undirected graph G=(V, E). Describe an O(n+m) time algorithm based on BFS that returns the path between 2 vertices of a tree.    "
   ]
  },
  {
   "cell_type": "markdown",
   "id": "53a83466",
   "metadata": {},
   "source": [
    "    a. Explain the main concept of your algorithm.\n",
    "    \n",
    "The main concept of the modified BFS algorithm, BFS_Find_Path, is to find a path between a source vertex s and a target vertex t in a tree (or any graph) using a Breadth-First Search approach. Here's how the algorithm works:\n",
    "\n",
    "We start by initializing an empty queue Q to store the vertices we need to explore and a dictionary parent to keep track of the parent of each vertex. The parent dictionary will be used to reconstruct the path from t back to s when we find the target.\n",
    "\n",
    "We enqueue the source vertex s into the queue and mark its parent as None since it has no parent.\n",
    "\n",
    "We enter a loop that continues as long as there are vertices in the queue Q to explore.\n",
    "\n",
    "Inside the loop, we dequeue a vertex called current from the queue.\n",
    "\n",
    "If current is equal to the target vertex t, we have found the path. We reconstruct the path from t to s by following the parent links. We store the path in a list and return it.\n",
    "\n",
    "If current is not equal to the target t, we examine its neighbors. For each neighbor w, if w has not been visited before (i.e., not in the parent dictionary), we mark current as the parent of w and enqueue w into the queue.\n",
    "\n",
    "If we exhaust all possibilities in the loop and still haven't reached the target t, it means there is no path from s to t, so we return a message indicating that.\n",
    "\n",
    "The key idea here is to use the BFS traversal to explore the graph systematically, keeping track of the parent of each vertex. When we reach the target vertex, we can backtrack through the parent links to reconstruct the path from t to s. This algorithm ensures that we find the shortest path between the two vertices in an unweighted graph (or tree) because BFS explores vertices in layers, guaranteeing that the first path found is the shortest."
   ]
  },
  {
   "cell_type": "markdown",
   "id": "3eede964",
   "metadata": {},
   "source": [
    "    \n",
    "    b. Give pseudo-code.\n",
    "    \n",
    "    Algorithm BFS_Find_Path(G, s, t):\n",
    "        Input: A graph G, a source vertex s, and a target vertex t in G\n",
    "        Output: A path from vertex s to vertex t in G, or an indication that no such path exists\n",
    "\n",
    "        Create an empty queue, Q\n",
    "        Create a dictionary, parent, to store the parent of each vertex\n",
    "        Initialize parent[s] ← None\n",
    "\n",
    "        Enqueue s into Q\n",
    "\n",
    "        while Q is not empty do\n",
    "            current ← Dequeue(Q)\n",
    "            if current = t then\n",
    "                # Reconstruct the path from t to s\n",
    "                path ← []\n",
    "                while current is not None:\n",
    "                    path.insert(0, current)\n",
    "                    current ← parent[current]\n",
    "                return path\n",
    "            for each neighbor, w, of current in G:\n",
    "                if w is not in parent:\n",
    "                    parent[w] ← current\n",
    "                    Enqueue(Q, w)\n",
    "\n",
    "        # No path from s to t was found\n",
    "        return \"No path exists\"\n"
   ]
  },
  {
   "cell_type": "markdown",
   "id": "b0247324",
   "metadata": {},
   "source": [
    "    c. Present an example of running your algorithm.\n",
    "    \n",
    "<div style=\"text-align:center\">\n",
    "    <img src=\"6c.jpg\" alt=\"Image\" width=\"400\"/>\n",
    "</div> \n",
    "\n",
    "In this tree, vertex A is the root, and we want to find a path from vertex A to vertex E. We'll use the BFS_Find_Path algorithm for this.\n",
    "\n",
    "1: Initialize the tree\n",
    "\n",
    "G = {\n",
    "    'A': ['B', 'C'],\n",
    "    'B': ['D', 'E'],\n",
    "    'C': [],\n",
    "    'D': [],\n",
    "    'E': []\n",
    "}\n",
    "\n",
    "2: Call the BFS_Find_Path algorithm\n",
    "\n",
    "path = BFS_Find_Path(G, 'A', 'E')\n",
    "\n",
    "3: The algorithm will execute as follows\n",
    "\n",
    "Start with Q = ['A'] and parent = {'A': None}.\n",
    "\n",
    "Dequeue A, and explore its neighbors B and C. Enqueue B and set its parent as 'A'.\n",
    "\n",
    "Dequeue B, explore its neighbors D and E, and enqueue D (parent is 'B') and E (parent is 'B').\n",
    "\n",
    "Dequeue C, but it has no neighbors.\n",
    "\n",
    "Dequeue D, but it has no neighbors.\n",
    "\n",
    "Dequeue E, but it has no neighbors.\n"
   ]
  },
  {
   "cell_type": "markdown",
   "id": "5b8d6bbe",
   "metadata": {},
   "source": [
    "    d. Prove/justify its correctness and its running time."
   ]
  }
 ],
 "metadata": {
  "kernelspec": {
   "display_name": "Python 3 (ipykernel)",
   "language": "python",
   "name": "python3"
  },
  "language_info": {
   "codemirror_mode": {
    "name": "ipython",
    "version": 3
   },
   "file_extension": ".py",
   "mimetype": "text/x-python",
   "name": "python",
   "nbconvert_exporter": "python",
   "pygments_lexer": "ipython3",
   "version": "3.9.13"
  }
 },
 "nbformat": 4,
 "nbformat_minor": 5
}
