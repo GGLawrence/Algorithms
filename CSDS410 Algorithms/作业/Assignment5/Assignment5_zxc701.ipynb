{
 "cells": [
  {
   "cell_type": "markdown",
   "id": "6356a563",
   "metadata": {},
   "source": [
    "# Assignment 5 ---- Ziming Cui, zxc701 "
   ]
  },
  {
   "cell_type": "markdown",
   "id": "1ece6a31",
   "metadata": {},
   "source": [
    "1. [8] Draw a simple, connected, undirected, weighted graph with 8 vertices and 16 edges, each with unique edge weights. Illustrate the execution of Kruskal’s MST algorithm on this graph. (Note that there is only one minimum spanning tree for this graph.)"
   ]
  },
  {
   "cell_type": "markdown",
   "id": "a6256899",
   "metadata": {},
   "source": [
    "<div style=\"text-align:center\">\n",
    "    <img src=\"1.jpg\" alt=\"Image\" width=\"800\"/>\n",
    "</div>"
   ]
  },
  {
   "cell_type": "markdown",
   "id": "aea40fb6",
   "metadata": {},
   "source": [
    "The yellow tree in picture is minimum spanning tree，and total weight is 1 + 2 + 3 + 7 + 8 + 9 + 12 = 42."
   ]
  },
  {
   "cell_type": "markdown",
   "id": "3ca52f04",
   "metadata": {},
   "source": [
    "2. [8] Why does Kruskal’s MST algorithm still work correctly even if the graph has negative-weight edges, and even negative-weight cycles?\n",
    "\n",
    "Kruskal's Minimum Spanning Tree (MST) algorithm works correctly even in the presence of negative-weight edges and negative-weight cycles because it relies on the property that the minimum spanning tree of a connected graph is always a subgraph that includes all the vertices and forms a tree without any cycles.\n",
    "\n",
    "In addition,\n",
    "\n",
    "Sorting by Edge Weight:\n",
    "Kruskal's algorithm starts by sorting all the edges of the graph in non-decreasing order of their weights.\n",
    "\n",
    "Edge Selection:\n",
    "It then considers the edges one by one in sorted order, adding each edge to the growing set of edges that form the MST if adding the edge doesn't create a cycle.\n",
    "\n",
    "Detecting Cycles:\n",
    "The algorithm ensures acyclic property by using a data structure, usually a disjoint-set data structure (e.g., union-find), to keep track of the connected components. If adding an edge creates a cycle (i.e., the two vertices of the edge are already in the same connected component), the algorithm skips that edge and moves on to the next one.\n",
    "\n",
    "Negative-weight Edges:\n",
    "The sorting step takes care of negative-weight edges. Since the edges are sorted in non-decreasing order of weight, the algorithm considers the lighter edges first. It doesn't matter if some edges have negative weights, as the algorithm's logic is based on selecting edges in increasing order of weight.\n",
    "\n",
    "Negative-weight Cycles:\n",
    "Even if there are negative-weight cycles in the graph, Kruskal's algorithm will still work correctly. This is because the algorithm is inherently designed to avoid cycles. When it encounters an edge that would form a cycle, it skips that edge and moves on to the next one. Negative-weight cycles can be ignored in the context of MST because, by definition, a minimum spanning tree is a tree, which is an acyclic connected subgraph."
   ]
  },
  {
   "cell_type": "markdown",
   "id": "8626b91c",
   "metadata": {},
   "source": [
    "3. [8] Suppose G is a weighted, connected, undirected, simple graph and e is a largest weight edge in G. Prove or disprove the claim that there is no minimum spanning tree of G that contains e.\n"
   ]
  },
  {
   "attachments": {},
   "cell_type": "markdown",
   "id": "0c123619",
   "metadata": {},
   "source": [
    "It is false.\n",
    "\n",
    "Proof by contradictions：\n",
    "\n",
    "I will show a special example just like this picture.\n",
    "\n",
    "<div style=\"text-align:center\">\n",
    "    <img src=\"3.jpg\" alt=\"Image\" width=\"400\"/>\n",
    "</div>\n",
    "\n",
    "<div style=\"text-align:center\">\n",
    "    <img src=\"3_1.jpg\" alt=\"Image\" width=\"400\"/>\n",
    "</div>\n",
    "\n",
    "\n",
    "The minimum spanning tree of this Graph, includes the largest weight edge.\n",
    "\n",
    "Therefore, we can disprove the claim that there is no minimum spanning tree of G that contains largest weight edge e."
   ]
  },
  {
   "cell_type": "markdown",
   "id": "6de38d1f",
   "metadata": {},
   "source": [
    "4. [8] Suppose G is an undirected, connected, weighted graph such that the edges in G have distinct edge weights. Show that the minimum spanning tree for G is unique.\n",
    "\n",
    "<div style=\"text-align:center\">\n",
    "    <img src=\"4.png\" alt=\"Image\" width=\"800\"/>\n",
    "</div>"
   ]
  },
  {
   "cell_type": "markdown",
   "id": "09d2f922",
   "metadata": {},
   "source": [
    "5. [8] Suppose G is an undirected, connected, weighted graph such that the edges in G have distinct positive edge weights. Prove that the minimum spanning tree for G is unchanged even if we square all the edge weights in G, that is, G has the same set of edges in its minimum spanning tree even if we replace the weight, $w(e)$, of each edge e in G, with $w(e)^2$.\n",
    "\n",
    "<div style=\"text-align:center\">\n",
    "    <img src=\"5.png\" alt=\"Image\" width=\"800\"/>\n",
    "</div>"
   ]
  },
  {
   "cell_type": "markdown",
   "id": "0e03dd50",
   "metadata": {},
   "source": [
    "6. [8] Suppose G is an undirected, connected, weighted graph such that the edges in G have distinct edge weights, which may be positive or negative. Prove that the minimum spanning tree for G may be changed if we square all the edge weights in G, that is, G may have a different set of edges in its minimum spanning tree if we replace the weight, $w(e)$, of each edge e in G, with $w(e)^2$."
   ]
  },
  {
   "cell_type": "markdown",
   "id": "ee5c2982",
   "metadata": {},
   "source": [
    "### Proof by contradictions\n",
    "\n",
    "<div style=\"text-align:center\">\n",
    "    <img src=\"6.png\" alt=\"Image\" width=\"800\"/>\n",
    "</div>"
   ]
  },
  {
   "cell_type": "markdown",
   "id": "fd2c4dad",
   "metadata": {},
   "source": [
    "7. [8] Suppose Joseph Kruskal had an evil twin, named Peter, who designed an algorithm that takes the exact opposite approach from his brother’s algorithm for finding an MST in an undirected, weighted, connected graph, G. Also, for the sake of simplicity, suppose the edges of G have distinct weights. Peter’s algorithm is as follows: consider the edges of G by decreasing weights. For each edge, e, in this order, if the removal of e from G would not disconnect G, then remove e from G. Peter claims that the graph that remains at the end of his algorithm is a minimum spanning tree. Prove or disprove Peter’s claim."
   ]
  },
  {
   "cell_type": "markdown",
   "id": "9ce5a295",
   "metadata": {},
   "source": [
    "Peter’s claim is not true.\n",
    "\n",
    "Proof by contradictions:\n",
    "Peter's reverse-greedy algorithm for finding a minimum spanning tree (MST) in a weighted, connected graph begins with a connected graph and sequentially removes edges without disconnecting it. The algorithm ensures the resulting structure is a tree. The uniqueness of the MST is guaranteed due to distinct edge weights. For each edge, e, included in Peter's tree, if removing it would disconnect the graph into two components, V1 and V2, and since edges are considered in reverse order, e must be the minimum-weight edge connecting V1 and V2. This observation, coupled with a crucial fact about MSTs, establishes that e belongs to the MST.\n",
    "\n",
    "Thus, Peter’s claim is false!"
   ]
  },
  {
   "cell_type": "markdown",
   "id": "087f4016",
   "metadata": {},
   "source": [
    "8. [8] Draw a simple, connected, weighted, undirected graph with 8 vertices and 16 edges, and with distinct edge weights. Identify one vertex as a “start” vertex and illustrate a running of Dijkstra’s algorithm on this graph."
   ]
  },
  {
   "cell_type": "markdown",
   "id": "5460275e",
   "metadata": {},
   "source": [
    "<div style=\"text-align:center\">\n",
    "    <img src=\"8.jpg\" alt=\"Image\" width=\"800\"/>\n",
    "</div>\n",
    "\n",
    "<div style=\"text-align:center\">\n",
    "    <img src=\"8_2.jpg\" alt=\"Image\" width=\"800\"/>\n",
    "</div>\n"
   ]
  },
  {
   "cell_type": "markdown",
   "id": "7c42237a",
   "metadata": {},
   "source": [
    "The start vertex is vertex c.\n",
    "\n",
    "The yellow is the cloud.\n",
    "\n",
    "The green number is the weight of edge.\n",
    "\n",
    "The blue number is the distance from start vertex to current vertex."
   ]
  },
  {
   "cell_type": "markdown",
   "id": "832b5c04",
   "metadata": {},
   "source": [
    "9. [20] Describe a modification to Dijkstra’s algorithm for the case when the graph is directed and we want to compute shortest directed paths from the source vertex to all the other vertices. Also, this algorithm, in addition to output the distance from v to each vertex in G (as in the original Dijkstra’s algorithm), it should also to output a tree T rooted at v, such that the path in T from v to a vertex u is actually a shortest path in G from v to u. Please see “Assignment Material” section for parts a-d on “describing an algorithm”.\n"
   ]
  },
  {
   "cell_type": "markdown",
   "id": "fdd8c43b",
   "metadata": {},
   "source": [
    "a. Main Concept of the Algorithm:\n",
    "\n",
    "The modified Dijkstra's algorithm for computing shortest directed paths from a source vertex to all other vertices maintains a tree T rooted at the source vertex. This tree represents the shortest paths from the source vertex to all other vertices in the directed graph. The algorithm keeps track of the minimum distance from the source to each vertex and updates both the distances and the tree as it explores the graph.\n",
    "\n",
    "The key idea is to prioritize edges that lead to shorter paths, ensuring that the tree T reflects the shortest paths from the source to each vertex. The algorithm continues until all vertices are included in the tree, and at the end, it provides the distances from the source to each vertex and the tree T."
   ]
  },
  {
   "cell_type": "markdown",
   "id": "d2b6b0fb",
   "metadata": {},
   "source": [
    "b. Pseudo-code:\n",
    "\n",
    "Algorithm modifiedDijkstra(graph, source):\n",
    "    \n",
    "    Input: \n",
    "        graph:The graph is represented as a dictionary where each key-value pair corresponds to a vertex and its outgoing edges.\n",
    "        source:The source vertex from which shortest paths are computed.\n",
    "        \n",
    "    Output:\n",
    "        distance:A dictionary containing the minimum distance from the source vertex to each other vertex.\n",
    "\n",
    "    distance ← {}  # Dictionary to store the minimum distance from source to each vertex\n",
    "    tree ← {}      # Dictionary to store the tree T\n",
    "    priority_queue ← MinHeap()  # Min-heap to prioritize vertices with minimum distance\n",
    "\n",
    "    # Initialization\n",
    "    for vertex in graph.vertices:\n",
    "        distance[vertex] ← INFINITY\n",
    "        tree[vertex] ← None\n",
    "\n",
    "    distance[source] ← 0\n",
    "    priority_queue.insert((source, 0))\n",
    "\n",
    "    # Main loop\n",
    "    while not priority_queue.isEmpty() do:\n",
    "        current_vertex, current_distance ← priority_queue.extractMin()\n",
    "\n",
    "        # Update distances and tree based on the current vertex\n",
    "        for neighbor, edge_weight in graph.neighbors(current_vertex):\n",
    "            new_distance ← distance[current_vertex] + edge_weight\n",
    "\n",
    "            if new_distance < distance[neighbor] then:\n",
    "                distance[neighbor] ← new_distance\n",
    "                tree[neighbor] ← current_vertex\n",
    "                priority_queue.insert((neighbor, new_distance))\n",
    "\n",
    "    return distance"
   ]
  },
  {
   "cell_type": "markdown",
   "id": "2c282d95",
   "metadata": {},
   "source": [
    "c. Example:\n",
    "\n",
    "We set A as start vertex and run  modifiedDijkstra(G, A). The yellow is cloud, and blue number is the distance from start vertex to current vertex.\n",
    "\n",
    "<div style=\"text-align:center\">\n",
    "    <img src=\"9_1.jpg\" alt=\"Image\" width=\"800\"/>\n",
    "</div>\n",
    "    \n",
    "<div style=\"text-align:center\">\n",
    "    <img src=\"9_2.jpg\" alt=\"Image\" width=\"800\"/>\n",
    "</div>    "
   ]
  },
  {
   "cell_type": "markdown",
   "id": "7640256f",
   "metadata": {},
   "source": [
    "d. Correctness and Running Time:\n",
    "\n",
    "Correctness:\n",
    "\n",
    "The correctness of the algorithm can be justified by the fact that it always selects the vertex with the minimum distance from the priority queue and updates the distances and tree accordingly. At the end of the algorithm, the tree T represents the shortest paths from the source to all other vertices, and the distances are correctly calculated.\n",
    "\n",
    "Running Time:\n",
    "\n",
    "The running time of the modified Dijkstra's algorithm is O((n + m) log n), where n is the number of vertices and m is the number of edges in the graph. The main operations contributing to this complexity are the extraction of the minimum element from the priority queue and the relaxation step when updating distances and the tree. The use of a priority queue ensures efficient selection of the vertex with the minimum distance."
   ]
  },
  {
   "attachments": {},
   "cell_type": "markdown",
   "id": "2f74c4e3",
   "metadata": {},
   "source": [
    "10. [16] Problem on Dijkstra’s algorithm with negative edge weights.\n",
    "\n",
    "a. Prove that Dijkstra’s algorithm will not work for an undirected graph that has a negative edge weight.\n",
    "\n",
    "### Proof by contradictions:\n",
    "\n",
    "<div style=\"text-align:center\">\n",
    "    <img src=\"10_a.png\" alt=\"Image\" width=\"800\"/>\n",
    "</div> "
   ]
  },
  {
   "cell_type": "markdown",
   "id": "a6192224",
   "metadata": {},
   "source": [
    "b. Prove that Dijkstra’s algorithm will not work for a directed graph that has a negative edge weight even if there is not a negative edge weight cycle."
   ]
  },
  {
   "cell_type": "markdown",
   "id": "24bf3bf5",
   "metadata": {},
   "source": [
    "### Proof by contradictions:\n",
    "\n",
    "<div style=\"text-align:center\">\n",
    "    <img src=\"10_b.png\" alt=\"Image\" width=\"800\"/>\n",
    "</div> "
   ]
  }
 ],
 "metadata": {
  "kernelspec": {
   "display_name": "Python 3 (ipykernel)",
   "language": "python",
   "name": "python3"
  },
  "language_info": {
   "codemirror_mode": {
    "name": "ipython",
    "version": 3
   },
   "file_extension": ".py",
   "mimetype": "text/x-python",
   "name": "python",
   "nbconvert_exporter": "python",
   "pygments_lexer": "ipython3",
   "version": "3.9.13"
  }
 },
 "nbformat": 4,
 "nbformat_minor": 5
}
