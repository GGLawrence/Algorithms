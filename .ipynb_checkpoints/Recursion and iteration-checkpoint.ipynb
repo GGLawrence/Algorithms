{
 "cells": [
  {
   "cell_type": "markdown",
   "id": "ab43d513",
   "metadata": {},
   "source": [
    "# What's the difference between Recursion and Iteration?"
   ]
  },
  {
   "cell_type": "markdown",
   "id": "e84ee0fd",
   "metadata": {},
   "source": [
    "当我们讨论递归和迭代算法时，让我们以计算斐波那契数列的前n项为例来比较这两种方法。斐波那契数列的定义如下：\n",
    "\n",
    "- F(0) = 0\n",
    "- F(1) = 1\n",
    "- F(n) = F(n-1) + F(n-2)（对于n > 1）\n",
    "\n",
    "首先，让我们分别编写递归和迭代算法来计算斐波那契数列的前n项。"
   ]
  },
  {
   "cell_type": "markdown",
   "id": "3c28b040",
   "metadata": {},
   "source": [
    "## Recursive algorithm"
   ]
  },
  {
   "cell_type": "code",
   "execution_count": null,
   "id": "935b1afb",
   "metadata": {},
   "outputs": [],
   "source": [
    "def recursive_fibonacci(n):\n",
    "    if n <= 0:\n",
    "        return 0\n",
    "    elif n == 1:\n",
    "        return 1\n",
    "    else:\n",
    "        return recursive_fibonacci(n-1) + recursive_fibonacci(n-2)"
   ]
  },
  {
   "cell_type": "markdown",
   "id": "94a76ac5",
   "metadata": {},
   "source": [
    "## Iterative algorithm"
   ]
  },
  {
   "cell_type": "code",
   "execution_count": null,
   "id": "1a44948a",
   "metadata": {},
   "outputs": [],
   "source": [
    "def iterative_fibonacci(n):\n",
    "    if n <= 0:\n",
    "        return 0\n",
    "    elif n == 1:\n",
    "        return 1\n",
    "    else:\n",
    "        fib = [0, 1]\n",
    "        for i in range(2, n+1):\n",
    "            fib.append(fib[i-1] + fib[i-2])\n",
    "        return fib[n]"
   ]
  },
  {
   "cell_type": "markdown",
   "id": "b6c9e413",
   "metadata": {},
   "source": [
    "现在让我们来比较这两种算法的区别：\n",
    "\n",
    "1. 递归 vs. 迭代:\n",
    "\n",
    "- 递归算法使用函数自身来解决问题，而迭代算法使用循环。\n",
    "\n",
    "- 递归算法通常更容易理解和实现，因为它们直接反映了问题的定义。\n",
    "\n",
    "- 迭代算法通常更有效，因为它们不涉及函数调用的开销和递归调用栈的维护。在某些情况下，递归可能导致栈溢出。\n",
    "\n",
    "2. 性能:\n",
    "\n",
    "- 递归算法通常具有较高的空间复杂度，因为每个递归调用都需要在堆栈中存储信息，这可能导致堆栈溢出，尤其在大规模问题上。\n",
    "\n",
    "- 迭代算法通常具有较低的空间复杂度，因为它们使用循环来保存中间结果，而不是在堆栈上存储调用信息。\n",
    "\n",
    "3. 可读性:\n",
    "\n",
    "- 递归算法通常更容易理解，因为它们直接模拟了问题的定义，但有时可能会更难调试。\n",
    "\n",
    "- 迭代算法通常更复杂一些，但在大多数情况下更容易进行性能优化和调试。\n",
    "\n",
    "总的来说，递归算法和迭代算法都有其优点和缺点，选择哪种方法取决于问题的性质以及性能和可读性之间的权衡。在某些情况下，可以使用递归算法来更自然地表示问题，但要注意递归深度和性能问题。在其他情况下，迭代算法可能更实际。"
   ]
  },
  {
   "cell_type": "markdown",
   "id": "c1b49484",
   "metadata": {},
   "source": [
    "## CSDS 410 课内递归问题：\n",
    "\n",
    "$$T(n)=\\left\\{\\begin{array}{ll}1&\\text{if n=1}\\\\T(n-1)+n&\\text{otherwise},\\end{array}\\right.$$\n",
    "\n",
    "`通过数学归纳法：`\n",
    "\n",
    "T(1) = 1\n",
    "\n",
    "T(2) = 1 + 2\n",
    "\n",
    "T(3) = 1 + 2 + 3\n",
    "\n",
    "T(4) = 1 + 2 + 3 + 4 \n",
    "\n",
    "...\n",
    "\n",
    "$T(n) = \\frac{2}{(1 + n) * n}$\n",
    "\n",
    "这类递归是有闭合表达式的，Fibonacci则没有闭合表达式，只有递归式。\n",
    "\n",
    "\n",
    "## 斐波那契数列能展开吗？\n",
    "\n",
    "斐波那契数列是一个无限序列，不能被完全展开为一个有限的表达式。虽然我们可以计算斐波那契数列的前n项，并将其列出，但这个序列没有一个简单的封闭表达式，无法用一个固定的公式来表示所有的项。\n",
    "\n",
    "斐波那契数列的定义是递归的，每个项都依赖于前两个项的和，因此它是一个无限递归的序列。虽然我们可以使用迭代或递归算法来计算特定的斐波那契数，但要展开整个序列，需要无限的步骤，这是不可行的。\n",
    "\n",
    "因此，我们通常只计算斐波那契数列的前几项，而不会尝试展开整个序列。如果需要特定项的值，可以使用迭代或递归方法进行计算。"
   ]
  },
  {
   "cell_type": "markdown",
   "id": "48763154",
   "metadata": {},
   "source": [
    "## Towers of Hanoi\n",
    "\n",
    "汉诺塔是一个经典的数学和逻辑谜题，它涉及到将一堆盘子从一个起始柱子移动到另一个目标柱子，中间还有一个辅助柱子。这个问题通常用于教授递归算法的概念，因为它可以很好地用递归方法来解决。\n",
    "\n",
    "https://www.mathsisfun.com/games/towerofhanoi.html\n",
    "\n",
    "<div style=\"text-align:center\">\n",
    "    <img src=\"Towers of Hanoi.png\" alt=\"Image\" width=\"400\"/>\n",
    "</div>\n",
    "\n",
    "__汉诺塔问题的规则如下：__\n",
    "\n",
    "1. 有三个柱子，分别标记为A、B和C。\n",
    "\n",
    "2. 一堆盘子从小到大依次放在柱子A上，最大的盘子在底部，最小的盘子在顶部。\n",
    "\n",
    "3. 目标是将所有盘子从柱子A移动到柱子C，同时遵循以下规则：\n",
    "    - 每次只能移动一个盘子。\n",
    "    - 每次移动时，只能将盘子放在比它大的盘子之上，或者放在空柱子上。\n",
    "    - 可以使用柱子B作为辅助来帮助移动盘子。\n",
    "    \n",
    "    "
   ]
  },
  {
   "cell_type": "markdown",
   "id": "1327e75b",
   "metadata": {},
   "source": [
    "### 伪代码："
   ]
  },
  {
   "cell_type": "code",
   "execution_count": null,
   "id": "3b96630d",
   "metadata": {},
   "outputs": [],
   "source": [
    "Procedure Hanoi(n, source, auxiliary, target):\n",
    "    if n == 1:\n",
    "        Move a disk from source to target\n",
    "    else:\n",
    "        // Step 1: Move (n-1) disks from source to auxiliary, using target as auxiliary\n",
    "        Hanoi(n-1, source, target, auxiliary)\n",
    "        \n",
    "        // Step 2: Move the nth disk from source to target\n",
    "        Move a disk from source to target\n",
    "        \n",
    "        // Step 3: Move (n-1) disks from auxiliary to target, using source as auxiliary\n",
    "        Hanoi(n-1, auxiliary, source, target)"
   ]
  },
  {
   "cell_type": "markdown",
   "id": "2ea8cb11",
   "metadata": {},
   "source": [
    "上面的伪代码描述了一个名为`anoi`过程，它接受三个参数：`n`表示要移动的盘子数量，`source`表示起始柱子，`auxiliary`表示辅助柱子，`target`表示目标柱子。\n",
    "\n",
    "- 如果`n`等于1，那么直接将一个盘子从`source`移动到`target`。\n",
    "\n",
    "- 否则，首先递归地将前`n-1`个盘子从`source`移动到`auxiliary`（使用`target`作为辅助柱子），然后将第`n`个盘子从`source`移动到`target`，最后递归地将前`n-1`个盘子从`auxiliary`移动到`target`（使用`source`作为辅助柱子）。\n",
    "\n",
    "这个伪代码描述了汉诺塔问题的解决方案，它使用了递归方法，将大问题分解为小问题并依次解决。你可以将这个伪代码翻译成你喜欢的编程语言，以实际实现算法。"
   ]
  }
 ],
 "metadata": {
  "kernelspec": {
   "display_name": "Python 3 (ipykernel)",
   "language": "python",
   "name": "python3"
  },
  "language_info": {
   "codemirror_mode": {
    "name": "ipython",
    "version": 3
   },
   "file_extension": ".py",
   "mimetype": "text/x-python",
   "name": "python",
   "nbconvert_exporter": "python",
   "pygments_lexer": "ipython3",
   "version": "3.9.13"
  }
 },
 "nbformat": 4,
 "nbformat_minor": 5
}
